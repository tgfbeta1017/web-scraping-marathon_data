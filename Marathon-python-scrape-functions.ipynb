{
 "cells": [
  {
   "cell_type": "code",
   "execution_count": 1,
   "metadata": {},
   "outputs": [
    {
     "name": "stderr",
     "output_type": "stream",
     "text": [
      "/Users/davidchung/.pyenv/versions/3.6.0/lib/python3.6/site-packages/pandas/compat/__init__.py:84: UserWarning: Could not import the lzma module. Your installed Python is incomplete. Attempting to use lzma compression will result in a RuntimeError.\n",
      "  warnings.warn(msg)\n",
      "/Users/davidchung/.pyenv/versions/3.6.0/lib/python3.6/site-packages/pandas/compat/__init__.py:84: UserWarning: Could not import the lzma module. Your installed Python is incomplete. Attempting to use lzma compression will result in a RuntimeError.\n",
      "  warnings.warn(msg)\n"
     ]
    }
   ],
   "source": [
    "import requests\n",
    "from bs4 import BeautifulSoup\n",
    "import pandas as pd\n",
    "import lxml.html as lh\n"
   ]
  },
  {
   "cell_type": "code",
   "execution_count": 2,
   "metadata": {},
   "outputs": [],
   "source": [
    "\n",
    "#make it into a function,takes url and page number as argument\n",
    "def extract_result(url,end_page):\n",
    "    i=1 #counter\n",
    "    marathon_result = {} # initialize empty dataframe\n",
    "    while i <= end_page: #keep looping until counter reaches page number\n",
    "        page=str(i) #convert counter to string\n",
    "        website_url= url + page #assign url\n",
    "        result = requests.post(website_url) #grab source html\n",
    "        soup = BeautifulSoup(result.content) #soupify\n",
    "        html_content = soup.prettify() #output as html\n",
    "        tables = pd.read_html(html_content) #read from html\n",
    "        marathon_result[i]=pd.DataFrame(data = tables[1]) #table[1] is where the results are located\n",
    "        i=i+1                                             #assign table[1] to dataframe for page number\n",
    "      \n",
    "    i=1 #reset counter for concatenating\n",
    "    while i < end_page: #while loop to concatenate all the dataframes to form one dataframe\n",
    "        marathon_result[i+1]=pd.concat([marathon_result[i],marathon_result[i+1]],ignore_index=True)\n",
    "        i=i+1\n",
    "        \n",
    "       \n",
    "    return marathon_result[i] #return final concatenated dataframe"
   ]
  },
  {
   "cell_type": "code",
   "execution_count": null,
   "metadata": {},
   "outputs": [],
   "source": [
    "#call function to get dataframe for wanted results\n",
    "full_2018_results = extract_result('https://www.runrocknroll.com/Events/Nashville/The-Races/Marathon/2018-Results?gender=&agegroup=&bib=&firstname=&lastname=&page=',100)"
   ]
  },
  {
   "cell_type": "code",
   "execution_count": 4,
   "metadata": {},
   "outputs": [
    {
     "data": {
      "text/plain": [
       "(2115, 4)"
      ]
     },
     "execution_count": 4,
     "metadata": {},
     "output_type": "execute_result"
    }
   ],
   "source": [
    "#Data exploring\n",
    "full_2018_results.shape"
   ]
  },
  {
   "cell_type": "code",
   "execution_count": 7,
   "metadata": {},
   "outputs": [
    {
     "name": "stdout",
     "output_type": "stream",
     "text": [
      "<class 'pandas.core.frame.DataFrame'>\n",
      "RangeIndex: 2115 entries, 0 to 2114\n",
      "Data columns (total 4 columns):\n",
      "Overall    2115 non-null object\n",
      "Bib        2115 non-null object\n",
      "Name       2115 non-null object\n",
      "Time       2115 non-null object\n",
      "dtypes: object(4)\n",
      "memory usage: 66.2+ KB\n"
     ]
    }
   ],
   "source": [
    "#data exploring\n",
    "full_2018_results.info()"
   ]
  },
  {
   "cell_type": "code",
   "execution_count": 9,
   "metadata": {},
   "outputs": [
    {
     "data": {
      "text/html": [
       "<div>\n",
       "<style scoped>\n",
       "    .dataframe tbody tr th:only-of-type {\n",
       "        vertical-align: middle;\n",
       "    }\n",
       "\n",
       "    .dataframe tbody tr th {\n",
       "        vertical-align: top;\n",
       "    }\n",
       "\n",
       "    .dataframe thead th {\n",
       "        text-align: right;\n",
       "    }\n",
       "</style>\n",
       "<table border=\"1\" class=\"dataframe\">\n",
       "  <thead>\n",
       "    <tr style=\"text-align: right;\">\n",
       "      <th></th>\n",
       "      <th>Overall</th>\n",
       "      <th>Bib</th>\n",
       "      <th>Name</th>\n",
       "      <th>Time</th>\n",
       "    </tr>\n",
       "  </thead>\n",
       "  <tbody>\n",
       "    <tr>\n",
       "      <td>2110</td>\n",
       "      <td>99999</td>\n",
       "      <td>31683</td>\n",
       "      <td>Aubrey Spaeth</td>\n",
       "      <td>00:00:00</td>\n",
       "    </tr>\n",
       "    <tr>\n",
       "      <td>2111</td>\n",
       "      <td>99999</td>\n",
       "      <td>33654</td>\n",
       "      <td>Jeffrey Ekkart</td>\n",
       "      <td>00:00:00</td>\n",
       "    </tr>\n",
       "    <tr>\n",
       "      <td>2112</td>\n",
       "      <td>99999</td>\n",
       "      <td>30482</td>\n",
       "      <td>David Ramos</td>\n",
       "      <td>00:00:00</td>\n",
       "    </tr>\n",
       "    <tr>\n",
       "      <td>2113</td>\n",
       "      <td>99999</td>\n",
       "      <td>33461</td>\n",
       "      <td>Emily Eagerton</td>\n",
       "      <td>00:00:00</td>\n",
       "    </tr>\n",
       "    <tr>\n",
       "      <td>2114</td>\n",
       "      <td>99999</td>\n",
       "      <td>31515</td>\n",
       "      <td>Tony Quernemoen</td>\n",
       "      <td>00:00:00</td>\n",
       "    </tr>\n",
       "  </tbody>\n",
       "</table>\n",
       "</div>"
      ],
      "text/plain": [
       "     Overall    Bib             Name      Time\n",
       "2110   99999  31683    Aubrey Spaeth  00:00:00\n",
       "2111   99999  33654   Jeffrey Ekkart  00:00:00\n",
       "2112   99999  30482      David Ramos  00:00:00\n",
       "2113   99999  33461   Emily Eagerton  00:00:00\n",
       "2114   99999  31515  Tony Quernemoen  00:00:00"
      ]
     },
     "execution_count": 9,
     "metadata": {},
     "output_type": "execute_result"
    }
   ],
   "source": [
    "#data exploring\n",
    "full_2018_results.tail()"
   ]
  },
  {
   "cell_type": "code",
   "execution_count": 290,
   "metadata": {},
   "outputs": [],
   "source": [
    "#add more columns for convinience i.e. type of race and year\n",
    "full_2018_results['Year']='2018'\n",
    "full_2018_results['Distance']='Full'"
   ]
  },
  {
   "cell_type": "code",
   "execution_count": 302,
   "metadata": {},
   "outputs": [],
   "source": [
    "#export to csv file.\n",
    "full_2018_results.to_csv('data/2018_full_results.csv')"
   ]
  },
  {
   "cell_type": "code",
   "execution_count": null,
   "metadata": {},
   "outputs": [],
   "source": []
  },
  {
   "cell_type": "code",
   "execution_count": null,
   "metadata": {},
   "outputs": [],
   "source": []
  }
 ],
 "metadata": {
  "kernelspec": {
   "display_name": "Python 3",
   "language": "python",
   "name": "python3"
  },
  "language_info": {
   "codemirror_mode": {
    "name": "ipython",
    "version": 3
   },
   "file_extension": ".py",
   "mimetype": "text/x-python",
   "name": "python",
   "nbconvert_exporter": "python",
   "pygments_lexer": "ipython3",
   "version": "3.6.0"
  }
 },
 "nbformat": 4,
 "nbformat_minor": 2
}
